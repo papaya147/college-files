{
 "cells": [
  {
   "cell_type": "code",
   "execution_count": 1,
   "id": "bc65999f-034a-43ef-8172-75ec5acae66b",
   "metadata": {},
   "outputs": [
    {
     "name": "stdin",
     "output_type": "stream",
     "text": [
      " Lorem ipsum dolor sit amet. Aut rerum eaque est quisquam deleniti cum quia consequuntur et saepe dolor et galisum voluptas aut harum galisum ex sequi voluptatibus. Sed rerum voluptas est quia consequatur vel nihil architecto galisum iure aut sint explicabo. Ea mollitia amet aut exercitationem internos sed dolorem quaerat id earum suscipit. Et mollitia repudiandae in omnis totam id ratione voluptatem ex dolores delectus nam commodi provident.\n"
     ]
    },
    {
     "name": "stdout",
     "output_type": "stream",
     "text": [
      "0          LOREM\n",
      "1          IPSUM\n",
      "2          DOLOR\n",
      "3            SIT\n",
      "4          AMET.\n",
      "         ...    \n",
      "62       DOLORES\n",
      "63      DELECTUS\n",
      "64           NAM\n",
      "65       COMMODI\n",
      "66    PROVIDENT.\n",
      "Name: Upper Case, Length: 67, dtype: object\n",
      "0          lorem\n",
      "1          ipsum\n",
      "2          dolor\n",
      "3            sit\n",
      "4          amet.\n",
      "         ...    \n",
      "62       dolores\n",
      "63      delectus\n",
      "64           nam\n",
      "65       commodi\n",
      "66    provident.\n",
      "Name: Lower Case, Length: 67, dtype: object\n",
      "0      5\n",
      "1      5\n",
      "2      5\n",
      "3      3\n",
      "4      5\n",
      "      ..\n",
      "62     7\n",
      "63     8\n",
      "64     3\n",
      "65     7\n",
      "66    10\n",
      "Name: Length, Length: 67, dtype: int64\n",
      "          Text  Upper Case  Lower Case  Length\n",
      "0        Lorem       LOREM       lorem       5\n",
      "1        ipsum       IPSUM       ipsum       5\n",
      "2        dolor       DOLOR       dolor       5\n",
      "3          sit         SIT         sit       3\n",
      "4        amet.       AMET.       amet.       5\n",
      "..         ...         ...         ...     ...\n",
      "62     dolores     DOLORES     dolores       7\n",
      "63    delectus    DELECTUS    delectus       8\n",
      "64         nam         NAM         nam       3\n",
      "65     commodi     COMMODI     commodi       7\n",
      "66  provident.  PROVIDENT.  provident.      10\n",
      "\n",
      "[67 rows x 4 columns]\n"
     ]
    }
   ],
   "source": [
    "import pandas as pd\n",
    "\n",
    "strings = input()\n",
    "strings = strings.split(' ')\n",
    "strings = pd.Series(strings)\n",
    "strings.name = 'Text'\n",
    "\n",
    "upper = strings.str.upper()\n",
    "upper.name = 'Upper Case'\n",
    "print(upper)\n",
    "\n",
    "lower = strings.str.lower()\n",
    "lower.name ='Lower Case'\n",
    "print(lower)\n",
    "\n",
    "length = strings.str.len()\n",
    "length.name = 'Length'\n",
    "print(length)\n",
    "\n",
    "DF = pd.concat([strings, upper, lower, length], axis = 1)\n",
    "print(DF)"
   ]
  },
  {
   "cell_type": "code",
   "execution_count": 2,
   "id": "a0a6d24c-af3f-4672-abb4-d10bd93925ce",
   "metadata": {},
   "outputs": [
    {
     "ename": "NameError",
     "evalue": "name 'string' is not defined",
     "output_type": "error",
     "traceback": [
      "\u001b[1;31m---------------------------------------------------------------------------\u001b[0m",
      "\u001b[1;31mNameError\u001b[0m                                 Traceback (most recent call last)",
      "\u001b[1;32m<ipython-input-2-edbf08a562d5>\u001b[0m in \u001b[0;36m<module>\u001b[1;34m\u001b[0m\n\u001b[1;32m----> 1\u001b[1;33m \u001b[0mstring\u001b[0m\u001b[1;33m\u001b[0m\u001b[1;33m\u001b[0m\u001b[0m\n\u001b[0m",
      "\u001b[1;31mNameError\u001b[0m: name 'string' is not defined"
     ]
    }
   ],
   "source": [
    "string"
   ]
  },
  {
   "cell_type": "code",
   "execution_count": 3,
   "id": "77936cfa-df4d-4405-a58f-f468dab833c8",
   "metadata": {},
   "outputs": [
    {
     "data": {
      "text/plain": [
       "0          Lorem\n",
       "1          ipsum\n",
       "2          dolor\n",
       "3            sit\n",
       "4          amet.\n",
       "         ...    \n",
       "62       dolores\n",
       "63      delectus\n",
       "64           nam\n",
       "65       commodi\n",
       "66    provident.\n",
       "Name: Text, Length: 67, dtype: object"
      ]
     },
     "execution_count": 3,
     "metadata": {},
     "output_type": "execute_result"
    }
   ],
   "source": [
    "strings"
   ]
  },
  {
   "cell_type": "code",
   "execution_count": 5,
   "id": "a9f11e50-f42d-4bec-ac50-7b407d343125",
   "metadata": {},
   "outputs": [
    {
     "data": {
      "text/plain": [
       "0          lorem\n",
       "1          ipsum\n",
       "2          dolor\n",
       "3            sit\n",
       "4          amet.\n",
       "         ...    \n",
       "62       dolores\n",
       "63      delectus\n",
       "64           nam\n",
       "65       commodi\n",
       "66    provident.\n",
       "Name: Lower Case, Length: 67, dtype: object"
      ]
     },
     "execution_count": 5,
     "metadata": {},
     "output_type": "execute_result"
    }
   ],
   "source": [
    "lower"
   ]
  },
  {
   "cell_type": "code",
   "execution_count": 6,
   "id": "6a341ebc-2ce6-47c4-8f99-45371d05482b",
   "metadata": {},
   "outputs": [
    {
     "data": {
      "text/html": [
       "<div>\n",
       "<style scoped>\n",
       "    .dataframe tbody tr th:only-of-type {\n",
       "        vertical-align: middle;\n",
       "    }\n",
       "\n",
       "    .dataframe tbody tr th {\n",
       "        vertical-align: top;\n",
       "    }\n",
       "\n",
       "    .dataframe thead th {\n",
       "        text-align: right;\n",
       "    }\n",
       "</style>\n",
       "<table border=\"1\" class=\"dataframe\">\n",
       "  <thead>\n",
       "    <tr style=\"text-align: right;\">\n",
       "      <th></th>\n",
       "      <th>Text</th>\n",
       "      <th>Upper Case</th>\n",
       "      <th>Lower Case</th>\n",
       "      <th>Length</th>\n",
       "    </tr>\n",
       "  </thead>\n",
       "  <tbody>\n",
       "    <tr>\n",
       "      <th>0</th>\n",
       "      <td>Lorem</td>\n",
       "      <td>LOREM</td>\n",
       "      <td>lorem</td>\n",
       "      <td>5</td>\n",
       "    </tr>\n",
       "    <tr>\n",
       "      <th>1</th>\n",
       "      <td>ipsum</td>\n",
       "      <td>IPSUM</td>\n",
       "      <td>ipsum</td>\n",
       "      <td>5</td>\n",
       "    </tr>\n",
       "    <tr>\n",
       "      <th>2</th>\n",
       "      <td>dolor</td>\n",
       "      <td>DOLOR</td>\n",
       "      <td>dolor</td>\n",
       "      <td>5</td>\n",
       "    </tr>\n",
       "    <tr>\n",
       "      <th>3</th>\n",
       "      <td>sit</td>\n",
       "      <td>SIT</td>\n",
       "      <td>sit</td>\n",
       "      <td>3</td>\n",
       "    </tr>\n",
       "    <tr>\n",
       "      <th>4</th>\n",
       "      <td>amet.</td>\n",
       "      <td>AMET.</td>\n",
       "      <td>amet.</td>\n",
       "      <td>5</td>\n",
       "    </tr>\n",
       "    <tr>\n",
       "      <th>...</th>\n",
       "      <td>...</td>\n",
       "      <td>...</td>\n",
       "      <td>...</td>\n",
       "      <td>...</td>\n",
       "    </tr>\n",
       "    <tr>\n",
       "      <th>62</th>\n",
       "      <td>dolores</td>\n",
       "      <td>DOLORES</td>\n",
       "      <td>dolores</td>\n",
       "      <td>7</td>\n",
       "    </tr>\n",
       "    <tr>\n",
       "      <th>63</th>\n",
       "      <td>delectus</td>\n",
       "      <td>DELECTUS</td>\n",
       "      <td>delectus</td>\n",
       "      <td>8</td>\n",
       "    </tr>\n",
       "    <tr>\n",
       "      <th>64</th>\n",
       "      <td>nam</td>\n",
       "      <td>NAM</td>\n",
       "      <td>nam</td>\n",
       "      <td>3</td>\n",
       "    </tr>\n",
       "    <tr>\n",
       "      <th>65</th>\n",
       "      <td>commodi</td>\n",
       "      <td>COMMODI</td>\n",
       "      <td>commodi</td>\n",
       "      <td>7</td>\n",
       "    </tr>\n",
       "    <tr>\n",
       "      <th>66</th>\n",
       "      <td>provident.</td>\n",
       "      <td>PROVIDENT.</td>\n",
       "      <td>provident.</td>\n",
       "      <td>10</td>\n",
       "    </tr>\n",
       "  </tbody>\n",
       "</table>\n",
       "<p>67 rows × 4 columns</p>\n",
       "</div>"
      ],
      "text/plain": [
       "          Text  Upper Case  Lower Case  Length\n",
       "0        Lorem       LOREM       lorem       5\n",
       "1        ipsum       IPSUM       ipsum       5\n",
       "2        dolor       DOLOR       dolor       5\n",
       "3          sit         SIT         sit       3\n",
       "4        amet.       AMET.       amet.       5\n",
       "..         ...         ...         ...     ...\n",
       "62     dolores     DOLORES     dolores       7\n",
       "63    delectus    DELECTUS    delectus       8\n",
       "64         nam         NAM         nam       3\n",
       "65     commodi     COMMODI     commodi       7\n",
       "66  provident.  PROVIDENT.  provident.      10\n",
       "\n",
       "[67 rows x 4 columns]"
      ]
     },
     "execution_count": 6,
     "metadata": {},
     "output_type": "execute_result"
    }
   ],
   "source": [
    "DF"
   ]
  },
  {
   "cell_type": "code",
   "execution_count": null,
   "id": "00febf9e-b192-4ecf-b688-cad6b6397ef9",
   "metadata": {},
   "outputs": [],
   "source": []
  }
 ],
 "metadata": {
  "kernelspec": {
   "display_name": "Python 3",
   "language": "python",
   "name": "python3"
  },
  "language_info": {
   "codemirror_mode": {
    "name": "ipython",
    "version": 3
   },
   "file_extension": ".py",
   "mimetype": "text/x-python",
   "name": "python",
   "nbconvert_exporter": "python",
   "pygments_lexer": "ipython3",
   "version": "3.8.8"
  }
 },
 "nbformat": 4,
 "nbformat_minor": 5
}
