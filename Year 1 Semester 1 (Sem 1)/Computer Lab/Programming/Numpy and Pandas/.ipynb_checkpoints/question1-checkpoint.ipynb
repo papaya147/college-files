{
 "cells": [
  {
   "cell_type": "code",
   "execution_count": 1,
   "id": "9c571c0c-d34f-4af5-b08a-15da5f486739",
   "metadata": {},
   "outputs": [],
   "source": [
    "import numpy as np"
   ]
  },
  {
   "cell_type": "code",
   "execution_count": 2,
   "id": "631f12e7-f23a-4652-a380-42df49dc7862",
   "metadata": {},
   "outputs": [
    {
     "name": "stdin",
     "output_type": "stream",
     "text": [
      " student1 mark is [100,10,98,20,45]\n",
      " student2 mark is [90,10,96,15,93]\n",
      " student3 mark is [88,10,86,84,83]\n",
      " student4 mark is [10,10,20,10,40]\n",
      " student5 mark is [30,40,50,90,80]   \n"
     ]
    },
    {
     "ename": "SyntaxError",
     "evalue": "unexpected EOF while parsing (<string>, line 0)",
     "output_type": "error",
     "traceback": [
      "Traceback \u001b[1;36m(most recent call last)\u001b[0m:\n",
      "  File \u001b[0;32m\"C:\\ProgramData\\Anaconda3\\lib\\site-packages\\IPython\\core\\interactiveshell.py\"\u001b[0m, line \u001b[0;32m3437\u001b[0m, in \u001b[0;35mrun_code\u001b[0m\n    exec(code_obj, self.user_global_ns, self.user_ns)\n",
      "\u001b[1;36m  File \u001b[1;32m\"<ipython-input-2-7bd54dcb91d2>\"\u001b[1;36m, line \u001b[1;32m3\u001b[1;36m, in \u001b[1;35m<module>\u001b[1;36m\u001b[0m\n\u001b[1;33m    marks.append(np.array(eval(input().split(' ')[-1])))\u001b[0m\n",
      "\u001b[1;36m  File \u001b[1;32m\"<string>\"\u001b[1;36m, line \u001b[1;32munknown\u001b[0m\n\u001b[1;33m    \u001b[0m\n\u001b[1;37m    ^\u001b[0m\n\u001b[1;31mSyntaxError\u001b[0m\u001b[1;31m:\u001b[0m unexpected EOF while parsing\n"
     ]
    }
   ],
   "source": [
    "marks = []\n",
    "for i in range(5):\n",
    "    marks.append(np.array(eval(input().split(' ')[-1])))\n",
    "marks"
   ]
  },
  {
   "cell_type": "code",
   "execution_count": 4,
   "id": "5cf825d3-e440-4e24-bc52-f8030e66e63b",
   "metadata": {},
   "outputs": [
    {
     "name": "stdin",
     "output_type": "stream",
     "text": [
      " student1 mark is [100,10,98,20,45]\n",
      "  student2 mark is [90,10,96,15,93]\n",
      "  student3 mark is [88,10,86,84,83]\n",
      "  student4 mark is [10,10,20,10,40]\n",
      " student5 mark is [30,40,50,90,80]   \n"
     ]
    },
    {
     "data": {
      "text/plain": [
       "[array([100,  10,  98,  20,  45]),\n",
       " array([90, 10, 96, 15, 93]),\n",
       " array([88, 10, 86, 84, 83]),\n",
       " array([10, 10, 20, 10, 40]),\n",
       " array([30, 40, 50, 90, 80])]"
      ]
     },
     "execution_count": 4,
     "metadata": {},
     "output_type": "execute_result"
    }
   ],
   "source": [
    "marks = []\n",
    "for i in range(5):\n",
    "    marks.append(np.array(eval(input().strip().split(' ')[-1])))\n",
    "marks"
   ]
  },
  {
   "cell_type": "code",
   "execution_count": 8,
   "id": "c6e04780-673d-4b75-a1c4-937a87f2584c",
   "metadata": {},
   "outputs": [
    {
     "data": {
      "text/plain": [
       "[array([10, 20, 45]),\n",
       " array([10, 15]),\n",
       " array([10]),\n",
       " array([10, 10, 20, 10, 40]),\n",
       " array([30, 40])]"
      ]
     },
     "execution_count": 8,
     "metadata": {},
     "output_type": "execute_result"
    }
   ],
   "source": [
    "fail = np.array()\n",
    "for i in range(5):\n",
    "    fail.append(marks[i][marks[i] < 50])\n",
    "fail"
   ]
  },
  {
   "cell_type": "code",
   "execution_count": null,
   "id": "ebcb2037-3b17-4586-bcfb-7e5df9ce8a2d",
   "metadata": {},
   "outputs": [],
   "source": []
  }
 ],
 "metadata": {
  "kernelspec": {
   "display_name": "Python 3",
   "language": "python",
   "name": "python3"
  },
  "language_info": {
   "codemirror_mode": {
    "name": "ipython",
    "version": 3
   },
   "file_extension": ".py",
   "mimetype": "text/x-python",
   "name": "python",
   "nbconvert_exporter": "python",
   "pygments_lexer": "ipython3",
   "version": "3.8.8"
  }
 },
 "nbformat": 4,
 "nbformat_minor": 5
}
