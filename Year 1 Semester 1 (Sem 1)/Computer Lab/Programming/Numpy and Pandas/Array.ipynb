{
 "cells": [
  {
   "cell_type": "code",
   "execution_count": 1,
   "id": "4975c319-2ec5-4d90-af9b-bd1c66aa403e",
   "metadata": {},
   "outputs": [
    {
     "data": {
      "text/plain": [
       "[1, 2, 3, 4, 5, 6]"
      ]
     },
     "execution_count": 1,
     "metadata": {},
     "output_type": "execute_result"
    }
   ],
   "source": [
    "L1 = [1, 2, 3]\n",
    "L2 = [4, 5, 6]\n",
    "L3 = L1 + L2\n",
    "L3"
   ]
  },
  {
   "cell_type": "code",
   "execution_count": 2,
   "id": "a892049f-9682-47e7-9090-b8a5d1f7cfc8",
   "metadata": {},
   "outputs": [],
   "source": [
    "import numpy as np"
   ]
  },
  {
   "cell_type": "code",
   "execution_count": 3,
   "id": "ba299434-107b-48f8-bbd1-407d260d5463",
   "metadata": {},
   "outputs": [
    {
     "data": {
      "text/plain": [
       "array([5, 7, 9])"
      ]
     },
     "execution_count": 3,
     "metadata": {},
     "output_type": "execute_result"
    }
   ],
   "source": [
    "L1 = np.array(L1)\n",
    "L2 = np.array(L2)\n",
    "L3 = L1 + L2\n",
    "L3"
   ]
  },
  {
   "cell_type": "code",
   "execution_count": 4,
   "id": "7b89a50d-1419-4653-82ee-45da013e027d",
   "metadata": {},
   "outputs": [
    {
     "name": "stdout",
     "output_type": "stream",
     "text": [
      "[0.25 0.4  0.5 ]\n",
      "[ 4 10 18]\n"
     ]
    }
   ],
   "source": [
    "print(L1 / L2)\n",
    "print(L1 * L2)"
   ]
  },
  {
   "cell_type": "code",
   "execution_count": 5,
   "id": "9656d552-f18e-461a-a267-26aaadf2c8c9",
   "metadata": {},
   "outputs": [
    {
     "data": {
      "text/plain": [
       "array([0.5, 1. , 1.5])"
      ]
     },
     "execution_count": 5,
     "metadata": {},
     "output_type": "execute_result"
    }
   ],
   "source": [
    "L1 / 2"
   ]
  },
  {
   "cell_type": "code",
   "execution_count": 6,
   "id": "4fda6272-204a-4359-bc7d-5f36b8f5f959",
   "metadata": {},
   "outputs": [
    {
     "name": "stdout",
     "output_type": "stream",
     "text": [
      "operands could not be broadcast together with shapes (3,) (2,) \n"
     ]
    }
   ],
   "source": [
    "L4 = np.array([1, 2])\n",
    "# L1 / L4 cannot be done\n",
    "try:\n",
    "    L4 = L1 / L4\n",
    "except Exception as e:\n",
    "    print(e)"
   ]
  },
  {
   "cell_type": "code",
   "execution_count": 7,
   "id": "7c314ac9-5281-453a-bd04-4b28e3f2f0c3",
   "metadata": {},
   "outputs": [
    {
     "data": {
      "text/plain": [
       "array([False, False,  True])"
      ]
     },
     "execution_count": 7,
     "metadata": {},
     "output_type": "execute_result"
    }
   ],
   "source": [
    "L5 = L1 > 2\n",
    "L5"
   ]
  },
  {
   "cell_type": "code",
   "execution_count": 8,
   "id": "22acdd3c-ec1b-41a1-9578-cd5fa433ecce",
   "metadata": {},
   "outputs": [
    {
     "name": "stdout",
     "output_type": "stream",
     "text": [
      "[[0 1 2 3 4]\n",
      " [5 6 7 8 9]]\n",
      "[[0 1 2]\n",
      " [3 4 5]\n",
      " [6 7 8]]\n"
     ]
    }
   ],
   "source": [
    "L6 = np.array([0, 1, 2, 3, 4, 5, 6, 7, 8, 9])\n",
    "print(L6.reshape(2, 5))\n",
    "L6 = np.array([0, 1, 2, 3, 4, 5, 6, 7, 8])\n",
    "print(L6.reshape(3, 3))"
   ]
  },
  {
   "cell_type": "code",
   "execution_count": 9,
   "id": "dbef23cc-b382-4742-8684-2d19cc80dff1",
   "metadata": {},
   "outputs": [
    {
     "name": "stdout",
     "output_type": "stream",
     "text": [
      "[(101, 'prod1', 45.0, 1000), (102, 'prod2', 80.0, 100), (103, 'prod3', 50.0, 200)]\n",
      "<class 'list'>\n"
     ]
    }
   ],
   "source": [
    "prod = [(101, 'prod1', 45.0, 1000), (102, 'prod2', 80.0, 100), (103, 'prod3', 50.0, 200)]\n",
    "print(prod)\n",
    "print(type(prod))"
   ]
  },
  {
   "cell_type": "code",
   "execution_count": 10,
   "id": "2e07af59-8343-42c8-a92b-3d75378f5240",
   "metadata": {},
   "outputs": [
    {
     "name": "stdout",
     "output_type": "stream",
     "text": [
      "[(101, b'prod1', 45., 1000) (102, b'prod2', 80.,  100)\n",
      " (103, b'prod3', 50.,  200)]\n",
      "<class 'numpy.ndarray'>\n"
     ]
    }
   ],
   "source": [
    "type_data = [('id', int), ('name', 'S10'), ('cost', float), ('quantity', int)]\n",
    "prod = np.array(prod, dtype = type_data)\n",
    "print(prod)\n",
    "print(type(prod))"
   ]
  },
  {
   "cell_type": "code",
   "execution_count": 11,
   "id": "3a5be53b-da00-4d90-98c3-2408683062ec",
   "metadata": {},
   "outputs": [
    {
     "data": {
      "text/plain": [
       "array([(101, b'prod1', 45., 1000), (102, b'prod2', 80.,  100),\n",
       "       (103, b'prod3', 50.,  200)],\n",
       "      dtype=[('id', '<i4'), ('name', 'S10'), ('cost', '<f8'), ('quantity', '<i4')])"
      ]
     },
     "execution_count": 11,
     "metadata": {},
     "output_type": "execute_result"
    }
   ],
   "source": [
    "np.sort(prod, order = ['id'])"
   ]
  },
  {
   "cell_type": "code",
   "execution_count": 12,
   "id": "29710b26-2ca0-4a18-bd27-6028f07fa9de",
   "metadata": {},
   "outputs": [
    {
     "name": "stdout",
     "output_type": "stream",
     "text": [
      "[3 0 5 9 4 8 2 6 7 1]\n"
     ]
    }
   ],
   "source": [
    "names = np.array(['Mark', 'Sam', 'Henry', 'John', 'Xander', 'Hornato', 'Wade', 'Xenos', 'Barry', 'Rich'])\n",
    "heights = np.array([145.5, 193.2, 178.4, 135.9, 169.8, 159.3, 178.4, 183.2, 176.7, 165.3])\n",
    "sort = np.lexsort((names, heights))\n",
    "print(sort)"
   ]
  },
  {
   "cell_type": "code",
   "execution_count": 13,
   "id": "d9f8c405-65bc-4dd4-bcad-e719b05a5ed3",
   "metadata": {},
   "outputs": [
    {
     "name": "stdout",
     "output_type": "stream",
     "text": [
      "John, 135.9\n",
      "Mark, 145.5\n",
      "Hornato, 159.3\n",
      "Rich, 165.3\n",
      "Xander, 169.8\n",
      "Barry, 176.7\n",
      "Henry, 178.4\n",
      "Wade, 178.4\n",
      "Xenos, 183.2\n",
      "Sam, 193.2\n"
     ]
    }
   ],
   "source": [
    "for i in sort:\n",
    "    print(f'{names[i]}, {heights[i]}')"
   ]
  },
  {
   "cell_type": "code",
   "execution_count": null,
   "id": "5058da99-6085-47bb-96fb-058f498d62b2",
   "metadata": {},
   "outputs": [],
   "source": []
  }
 ],
 "metadata": {
  "kernelspec": {
   "display_name": "Python 3",
   "language": "python",
   "name": "python3"
  },
  "language_info": {
   "codemirror_mode": {
    "name": "ipython",
    "version": 3
   },
   "file_extension": ".py",
   "mimetype": "text/x-python",
   "name": "python",
   "nbconvert_exporter": "python",
   "pygments_lexer": "ipython3",
   "version": "3.8.8"
  }
 },
 "nbformat": 4,
 "nbformat_minor": 5
}
