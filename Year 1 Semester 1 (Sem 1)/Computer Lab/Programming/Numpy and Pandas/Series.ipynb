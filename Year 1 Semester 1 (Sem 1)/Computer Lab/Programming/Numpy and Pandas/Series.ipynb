{
 "cells": [
  {
   "cell_type": "code",
   "execution_count": 1,
   "id": "919e40e0-9508-4f35-ac86-832998569b68",
   "metadata": {},
   "outputs": [],
   "source": [
    "import numpy as np\n",
    "import pandas as pd"
   ]
  },
  {
   "cell_type": "code",
   "execution_count": 2,
   "id": "e7f691a2-8ca6-435f-85ca-147b5bb8d363",
   "metadata": {},
   "outputs": [
    {
     "data": {
      "text/plain": [
       "0      one\n",
       "1      two\n",
       "2    three\n",
       "3     four\n",
       "4     five\n",
       "dtype: object"
      ]
     },
     "execution_count": 2,
     "metadata": {},
     "output_type": "execute_result"
    }
   ],
   "source": [
    "a = np.array(['one', 'two', 'three', 'four', 'five'])\n",
    "b = pd.Series(a)\n",
    "b"
   ]
  },
  {
   "cell_type": "code",
   "execution_count": 3,
   "id": "43276bf9-618a-49b3-88b6-0964ee66a6a1",
   "metadata": {},
   "outputs": [
    {
     "data": {
      "text/plain": [
       "a      one\n",
       "b      two\n",
       "c    three\n",
       "d     four\n",
       "e     five\n",
       "dtype: object"
      ]
     },
     "execution_count": 3,
     "metadata": {},
     "output_type": "execute_result"
    }
   ],
   "source": [
    "c = pd.Series(a, index = ['a', 'b', 'c', 'd', 'e'])\n",
    "c"
   ]
  },
  {
   "cell_type": "code",
   "execution_count": 4,
   "id": "cececf26-ec88-4a49-b314-bc2c22586882",
   "metadata": {},
   "outputs": [
    {
     "data": {
      "text/plain": [
       "a    11\n",
       "b    22\n",
       "c    33\n",
       "d    44\n",
       "dtype: int64"
      ]
     },
     "execution_count": 4,
     "metadata": {},
     "output_type": "execute_result"
    }
   ],
   "source": [
    "first = pd.Series([1, 2, 3, 4], index = ['a', 'b', 'c', 'd'])\n",
    "second = pd.Series([10, 20, 30, 40], index = ['a', 'b', 'c', 'd'])\n",
    "first + second"
   ]
  },
  {
   "cell_type": "code",
   "execution_count": 5,
   "id": "b7791165-c781-4ed9-8739-8da00a2b4240",
   "metadata": {},
   "outputs": [
    {
     "data": {
      "text/plain": [
       "a    21\n",
       "b    12\n",
       "c    33\n",
       "d    44\n",
       "dtype: int64"
      ]
     },
     "execution_count": 5,
     "metadata": {},
     "output_type": "execute_result"
    }
   ],
   "source": [
    "first = pd.Series([1, 2, 3, 4], index = ['a', 'b', 'c', 'd']) # addition based on series indices\n",
    "second = pd.Series([10, 20, 30, 40], index = ['b', 'a', 'c', 'd'])\n",
    "first + second"
   ]
  },
  {
   "cell_type": "code",
   "execution_count": 6,
   "id": "ef32ed89-e63c-43c5-a62c-9844b987e250",
   "metadata": {},
   "outputs": [
    {
     "data": {
      "text/plain": [
       "a     NaN\n",
       "b     NaN\n",
       "c    13.0\n",
       "d    24.0\n",
       "e     NaN\n",
       "f     NaN\n",
       "dtype: float64"
      ]
     },
     "execution_count": 6,
     "metadata": {},
     "output_type": "execute_result"
    }
   ],
   "source": [
    "first = pd.Series([1, 2, 3, 4], index = ['a', 'b', 'c', 'd'])\n",
    "second = pd.Series([10, 20, 30, 40], index = ['c', 'd', 'e', 'f'])\n",
    "first + second"
   ]
  },
  {
   "cell_type": "code",
   "execution_count": 7,
   "id": "237def23-cbd2-4bef-a411-26fc1e0b3a2b",
   "metadata": {},
   "outputs": [
    {
     "data": {
      "text/plain": [
       "c    13.0\n",
       "d    24.0\n",
       "dtype: float64"
      ]
     },
     "execution_count": 7,
     "metadata": {},
     "output_type": "execute_result"
    }
   ],
   "source": [
    "first = pd.Series([1, 2, 3, 4], index = ['a', 'b', 'c', 'd']) \n",
    "second = pd.Series([10, 20, 30, 40], index = ['c', 'd', 'e', 'f'])\n",
    "(first + second).dropna() # takes intersection"
   ]
  },
  {
   "cell_type": "code",
   "execution_count": 8,
   "id": "861e2d63-8af4-49df-b4b8-49858ad0098f",
   "metadata": {},
   "outputs": [
    {
     "data": {
      "text/plain": [
       "a     0.0\n",
       "b     0.0\n",
       "c    13.0\n",
       "d    24.0\n",
       "e     0.0\n",
       "f     0.0\n",
       "dtype: float64"
      ]
     },
     "execution_count": 8,
     "metadata": {},
     "output_type": "execute_result"
    }
   ],
   "source": [
    "first = pd.Series([1, 2, 3, 4], index = ['a', 'b', 'c', 'd']) \n",
    "second = pd.Series([10, 20, 30, 40], index = ['c', 'd', 'e', 'f'])\n",
    "(first + second).fillna(0) # fills NaN with 0 in this case"
   ]
  },
  {
   "cell_type": "code",
   "execution_count": 9,
   "id": "63b95add-23e4-4fd8-8845-321788858db0",
   "metadata": {},
   "outputs": [
    {
     "data": {
      "text/plain": [
       "a     1.0\n",
       "b     2.0\n",
       "c    13.0\n",
       "d    24.0\n",
       "e    30.0\n",
       "f    40.0\n",
       "dtype: float64"
      ]
     },
     "execution_count": 9,
     "metadata": {},
     "output_type": "execute_result"
    }
   ],
   "source": [
    "first = pd.Series([1, 2, 3, 4], index = ['a', 'b', 'c', 'd']) \n",
    "second = pd.Series([10, 20, 30, 40], index = ['c', 'd', 'e', 'f'])\n",
    "first.add(second, fill_value = 0) # adds all element if exists"
   ]
  },
  {
   "cell_type": "code",
   "execution_count": null,
   "id": "f67f8bd3-2d46-4c3c-808d-fe06696f824a",
   "metadata": {},
   "outputs": [],
   "source": []
  }
 ],
 "metadata": {
  "kernelspec": {
   "display_name": "Python 3",
   "language": "python",
   "name": "python3"
  },
  "language_info": {
   "codemirror_mode": {
    "name": "ipython",
    "version": 3
   },
   "file_extension": ".py",
   "mimetype": "text/x-python",
   "name": "python",
   "nbconvert_exporter": "python",
   "pygments_lexer": "ipython3",
   "version": "3.8.8"
  }
 },
 "nbformat": 4,
 "nbformat_minor": 5
}
