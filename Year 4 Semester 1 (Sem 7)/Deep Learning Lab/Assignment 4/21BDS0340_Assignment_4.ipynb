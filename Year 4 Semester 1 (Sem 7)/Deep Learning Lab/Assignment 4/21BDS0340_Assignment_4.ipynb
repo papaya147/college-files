{
  "cells": [
    {
      "cell_type": "markdown",
      "metadata": {},
      "source": [
        "##### 21BDS0340 - Abhinav Dinesh Srivatsa"
      ]
    },
    {
      "cell_type": "code",
      "execution_count": null,
      "metadata": {
        "id": "J-lY5bNHXWxF"
      },
      "outputs": [],
      "source": [
        "import tensorflow as tf\n",
        "import numpy as np\n",
        "import matplotlib.pyplot as plt\n",
        "import random\n",
        "from sklearn.model_selection import train_test_split\n",
        "from sklearn.metrics import classification_report\n",
        "import seaborn as sns"
      ]
    },
    {
      "cell_type": "code",
      "execution_count": null,
      "metadata": {
        "colab": {
          "base_uri": "https://localhost:8080/"
        },
        "id": "KbDTSnsMXWxH",
        "outputId": "295907b0-4f3c-4dbc-d7f1-d3b1cfaf4a6d"
      },
      "outputs": [],
      "source": [
        "data = np.load(\"ORL_faces.npz\")\n",
        "X_train = data[\"trainX\"]\n",
        "X_train_norm = np.array(X_train, dtype=\"float\") / 255\n",
        "X_test = data[\"testX\"]\n",
        "X_test_norm = np.array(X_test, dtype=\"float\") / 255\n",
        "y_train = data[\"trainY\"]\n",
        "y_test = data[\"testY\"]\n",
        "X_train_norm.shape, y_train.shape"
      ]
    },
    {
      "cell_type": "code",
      "execution_count": null,
      "metadata": {
        "colab": {
          "base_uri": "https://localhost:8080/"
        },
        "id": "FYwOcpLpXWxH",
        "outputId": "e5bd15c5-20ed-4337-ca2b-95f426100b37"
      },
      "outputs": [],
      "source": [
        "rows, cols = 112, 92\n",
        "im_shape = (-1, rows, cols)\n",
        "\n",
        "X_train_reshaped = np.reshape(X_train_norm, im_shape)\n",
        "X_test_reshaped = np.reshape(X_test_norm, im_shape)\n",
        "X_train_reshaped.shape"
      ]
    },
    {
      "cell_type": "code",
      "execution_count": null,
      "metadata": {
        "colab": {
          "base_uri": "https://localhost:8080/"
        },
        "id": "rFfx6pt-XWxI",
        "outputId": "36eb386b-5f4f-4ca8-9ba8-267dc7977a14"
      },
      "outputs": [],
      "source": [
        "X_train, X_val, y_train, y_val = train_test_split(X_train_reshaped, y_train, test_size=0.2, random_state=42, shuffle=True)\n",
        "X_train.shape, X_val.shape"
      ]
    },
    {
      "cell_type": "code",
      "execution_count": null,
      "metadata": {
        "id": "K43Tm4FsXWxI"
      },
      "outputs": [],
      "source": [
        "def random_face(data):\n",
        "    n = int(random.random() * len(data))\n",
        "    plt.imshow(data[n])"
      ]
    },
    {
      "cell_type": "code",
      "execution_count": null,
      "metadata": {
        "colab": {
          "base_uri": "https://localhost:8080/",
          "height": 434
        },
        "id": "Z_OnvBzUXWxI",
        "outputId": "eca40218-0907-4da5-8a00-d5397c246672"
      },
      "outputs": [],
      "source": [
        "random_face(X_train)"
      ]
    },
    {
      "cell_type": "code",
      "execution_count": null,
      "metadata": {
        "colab": {
          "base_uri": "https://localhost:8080/"
        },
        "id": "c_XM6qimXWxI",
        "outputId": "dcc6a020-5173-4ef8-aeb6-db6efbee40a9"
      },
      "outputs": [],
      "source": [
        "model1 = tf.keras.Sequential([\n",
        "    tf.keras.layers.Input((rows, cols, 1)),\n",
        "    tf.keras.layers.Conv2D(36, 7, activation=\"relu\"),\n",
        "    tf.keras.layers.MaxPool2D(2),\n",
        "    tf.keras.layers.Conv2D(54, 5, activation=\"relu\"),\n",
        "    tf.keras.layers.MaxPool2D(2),\n",
        "    tf.keras.layers.Flatten(),\n",
        "    tf.keras.layers.Dense(2048, activation=\"relu\"),\n",
        "    tf.keras.layers.Dropout(0.5),\n",
        "    tf.keras.layers.Dense(1024, activation=\"relu\"),\n",
        "    tf.keras.layers.Dropout(0.5),\n",
        "    tf.keras.layers.Dense(512, activation=\"relu\"),\n",
        "    tf.keras.layers.Dropout(0.5),\n",
        "    tf.keras.layers.Dense(20, activation=\"softmax\")\n",
        "])\n",
        "\n",
        "model1.compile(\n",
        "    optimizer=\"adam\",\n",
        "    loss=\"sparse_categorical_crossentropy\",\n",
        "    metrics=[\"accuracy\"]\n",
        ")\n",
        "\n",
        "history1 = model1.fit(\n",
        "    X_train, y_train,\n",
        "    epochs=100, validation_data=(X_val, y_val)\n",
        ")"
      ]
    },
    {
      "cell_type": "code",
      "execution_count": null,
      "metadata": {
        "colab": {
          "base_uri": "https://localhost:8080/"
        },
        "id": "MLe-i1aKXWxI",
        "outputId": "ecf91b31-4e1b-4d60-fc58-9aa610cad5ef"
      },
      "outputs": [],
      "source": [
        "X_test_reshaped.shape"
      ]
    },
    {
      "cell_type": "code",
      "execution_count": null,
      "metadata": {
        "colab": {
          "base_uri": "https://localhost:8080/"
        },
        "id": "YfFwQwgeXWxI",
        "outputId": "3200c485-3f04-44c1-ef01-f428035b4982"
      },
      "outputs": [],
      "source": [
        "model1.evaluate(X_test_reshaped, y_test, verbose=0)"
      ]
    },
    {
      "cell_type": "code",
      "execution_count": null,
      "metadata": {
        "colab": {
          "base_uri": "https://localhost:8080/",
          "height": 490
        },
        "id": "e2IpYZSbXWxI",
        "outputId": "2d9a36d8-39d1-4df9-9939-1b6286627c7e"
      },
      "outputs": [],
      "source": [
        "plt.plot(history1.history[\"accuracy\"])\n",
        "plt.plot(history1.history[\"val_accuracy\"])\n",
        "plt.title(\"Model Accuracies\")\n",
        "plt.xlabel(\"Epochs\")\n",
        "plt.ylabel(\"Accuracy\")\n",
        "plt.legend([\"train\", \"val\"], loc=\"upper left\")"
      ]
    },
    {
      "cell_type": "code",
      "execution_count": null,
      "metadata": {
        "colab": {
          "base_uri": "https://localhost:8080/",
          "height": 490
        },
        "id": "J0N3yA6_XWxJ",
        "outputId": "b88da995-d448-4cff-ee6f-ff6b164bb07a"
      },
      "outputs": [],
      "source": [
        "plt.plot(history1.history[\"loss\"])\n",
        "plt.plot(history1.history[\"val_loss\"])\n",
        "plt.title(\"Model Losses\")\n",
        "plt.xlabel(\"Epochs\")\n",
        "plt.ylabel(\"Loss\")\n",
        "plt.legend([\"train\", \"val\"], loc=\"upper left\")"
      ]
    },
    {
      "cell_type": "code",
      "execution_count": null,
      "metadata": {
        "id": "B5jaHymIXWxJ"
      },
      "outputs": [],
      "source": [
        "def confusion_matrix(model, test_features, test_labels):\n",
        "    y_pred = model.predict(test_features)\n",
        "    y_pred = [np.argmax(row) for row in y_pred]\n",
        "    matrix = np.zeros((20, 20))\n",
        "    for i in range(len(y_pred)):\n",
        "        real = test_labels[i]\n",
        "        pred = y_pred[i]\n",
        "        matrix[real][pred] += 1\n",
        "    plt.figure(figsize=(10, 7))\n",
        "    sns.heatmap(matrix, cmap=\"mako\", annot=True)\n",
        "    plt.title(\"Model Confusion Matrix\")\n",
        "    plt.xlabel(\"Real\")\n",
        "    plt.ylabel(\"Predicted\")\n",
        "    return y_pred"
      ]
    },
    {
      "cell_type": "code",
      "execution_count": null,
      "metadata": {
        "colab": {
          "base_uri": "https://localhost:8080/",
          "height": 659
        },
        "id": "VI5X-LuHXWxJ",
        "outputId": "38415db5-df7a-44ad-e105-a38d2f39d63e"
      },
      "outputs": [],
      "source": [
        "y_pred = confusion_matrix(model1, X_test_reshaped, y_test)"
      ]
    },
    {
      "cell_type": "code",
      "execution_count": null,
      "metadata": {
        "colab": {
          "base_uri": "https://localhost:8080/"
        },
        "id": "_FiBg0azXWxJ",
        "outputId": "6af6698a-a5f0-4547-d842-e9c0f6b158b1"
      },
      "outputs": [],
      "source": [
        "report = classification_report(y_test, y_pred)\n",
        "print(report)"
      ]
    }
  ],
  "metadata": {
    "accelerator": "GPU",
    "colab": {
      "gpuType": "T4",
      "provenance": []
    },
    "kernelspec": {
      "display_name": "Python 3",
      "name": "python3"
    },
    "language_info": {
      "codemirror_mode": {
        "name": "ipython",
        "version": 3
      },
      "file_extension": ".py",
      "mimetype": "text/x-python",
      "name": "python",
      "nbconvert_exporter": "python",
      "pygments_lexer": "ipython3",
      "version": "3.9.6"
    }
  },
  "nbformat": 4,
  "nbformat_minor": 0
}
