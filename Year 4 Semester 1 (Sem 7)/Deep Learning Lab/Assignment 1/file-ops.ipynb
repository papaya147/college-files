{
 "cells": [
  {
   "cell_type": "markdown",
   "metadata": {},
   "source": [
    "##### 21BDS0340 - Abhinav Dinesh Srivatsa\n",
    "\n",
    "##### Basic File Operations in Python"
   ]
  },
  {
   "cell_type": "code",
   "execution_count": 1,
   "metadata": {},
   "outputs": [],
   "source": [
    "import os\n",
    "import pandas as pd"
   ]
  },
  {
   "cell_type": "code",
   "execution_count": 2,
   "metadata": {},
   "outputs": [
    {
     "data": {
      "text/plain": [
       "'astavirS hseniD vanihbA - 0430SDB12'"
      ]
     },
     "execution_count": 2,
     "metadata": {},
     "output_type": "execute_result"
    }
   ],
   "source": [
    "# question 1\n",
    "with open(\"./file.txt\", \"w\") as file:\n",
    "    file.write(\"21BDS0340 - Abhinav Dinesh Srivatsa\")\n",
    "with open(\"./file.txt\", \"r\") as file:\n",
    "    data = file.read()\n",
    "data[::-1]"
   ]
  },
  {
   "cell_type": "code",
   "execution_count": 3,
   "metadata": {},
   "outputs": [],
   "source": [
    "# question 2\n",
    "data = {\n",
    "    \"Name\": [\"Abhinav\", \"Tanush\", \"Sumathi\"],\n",
    "    \"Age\": [25, 30, 35],\n",
    "    \"City\": [\"Bangalore\", \"Chennai\", \"Coimbatore\"]\n",
    "}\n",
    "df = pd.DataFrame(data)\n",
    "\n",
    "df.to_csv(\"./data.csv\", index=False) # saving as CSV\n",
    "df.to_html(\"./data.html\", index=False) # saving as HTML"
   ]
  },
  {
   "cell_type": "code",
   "execution_count": 4,
   "metadata": {},
   "outputs": [
    {
     "data": {
      "text/plain": [
       "'21BDS0340 deep learning lab test'"
      ]
     },
     "execution_count": 4,
     "metadata": {},
     "output_type": "execute_result"
    }
   ],
   "source": [
    "# question 3\n",
    "with open(\"./file.txt\", \"w\") as file:\n",
    "    file.write(\"21BDS0340 deep learning lab test\")\n",
    "with open(\"./file.txt\", \"r\") as file:\n",
    "    data = file.read()\n",
    "data"
   ]
  },
  {
   "cell_type": "code",
   "execution_count": 5,
   "metadata": {},
   "outputs": [
    {
     "data": {
      "text/plain": [
       "'21BDS0340\\nAbhinav Dinesh Srivatsa'"
      ]
     },
     "execution_count": 5,
     "metadata": {},
     "output_type": "execute_result"
    }
   ],
   "source": [
    "# question 4\n",
    "with open(\"./file.txt\", \"w\") as file:\n",
    "    file.write(\"21BDS0340\\n\")\n",
    "with open(\"./file.txt\", \"a\") as file:\n",
    "    file.write(\"Abhinav Dinesh Srivatsa\")\n",
    "with open(\"./file.txt\", \"r\") as file:\n",
    "    data = file.read()\n",
    "data"
   ]
  },
  {
   "cell_type": "code",
   "execution_count": 6,
   "metadata": {},
   "outputs": [
    {
     "data": {
      "text/plain": [
       "'21BDS0340 - Abhinav Dinesh Srivatsa'"
      ]
     },
     "execution_count": 6,
     "metadata": {},
     "output_type": "execute_result"
    }
   ],
   "source": [
    "# question 5\n",
    "with open(\"./file1.txt\", \"w\") as file:\n",
    "    file.write(\"21BDS0340 - \")\n",
    "with open(\"./file2.txt\", \"w\") as file:\n",
    "    file.write(\"Abhinav Dinesh Srivatsa\")\n",
    "\n",
    "with open(\"./file1.txt\", \"r\") as file:\n",
    "    data1 = file.read()\n",
    "with open(\"./file2.txt\", \"r\") as file:\n",
    "    data2 = file.read()\n",
    "with open(\"./combined.txt\", \"w\") as file:\n",
    "    file.write(data1)\n",
    "    file.write(data2)\n",
    "\n",
    "with open(\"./combined.txt\", \"r\") as file:\n",
    "    data = file.read()\n",
    "data"
   ]
  },
  {
   "cell_type": "code",
   "execution_count": null,
   "metadata": {},
   "outputs": [],
   "source": []
  }
 ],
 "metadata": {
  "kernelspec": {
   "display_name": "Python 3",
   "language": "python",
   "name": "python3"
  },
  "language_info": {
   "codemirror_mode": {
    "name": "ipython",
    "version": 3
   },
   "file_extension": ".py",
   "mimetype": "text/x-python",
   "name": "python",
   "nbconvert_exporter": "python",
   "pygments_lexer": "ipython3",
   "version": "3.12.2"
  }
 },
 "nbformat": 4,
 "nbformat_minor": 2
}
